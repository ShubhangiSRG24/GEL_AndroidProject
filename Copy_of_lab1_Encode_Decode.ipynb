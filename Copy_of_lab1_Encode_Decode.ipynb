{
  "cells": [
    {
      "cell_type": "markdown",
      "metadata": {
        "id": "view-in-github",
        "colab_type": "text"
      },
      "source": [
        "<a href=\"https://colab.research.google.com/github/YCL-01/GEL_AndroidProject/blob/master/Copy_of_lab1_Encode_Decode.ipynb\" target=\"_parent\"><img src=\"https://colab.research.google.com/assets/colab-badge.svg\" alt=\"Open In Colab\"/></a>"
      ]
    },
    {
      "cell_type": "markdown",
      "metadata": {
        "id": "fllkCp1BBsHl"
      },
      "source": [
        "|  CSE310 Computer Networks  |  Lab #1 |  Posted on 9/21 Due 10/1   |\n",
        "|:--|:--:|--:|\n",
        "\n",
        "## Encoding/Decoding Practice\n",
        "\n",
        "> **2D array parity bits** <br>\n",
        "> **CRC** <br>\n",
        "> **Hamming Code** <br>"
      ]
    },
    {
      "cell_type": "code",
      "execution_count": 3,
      "metadata": {
        "id": "eHMCOdjZBsHq"
      },
      "outputs": [],
      "source": [
        "import numpy as np"
      ]
    },
    {
      "cell_type": "code",
      "execution_count": 4,
      "metadata": {
        "id": "vGiQmOqCBsHs"
      },
      "outputs": [],
      "source": [
        "def encode_hamming(parity_bits, data):\n",
        "    n = len(data) + parity_bits\n",
        "    assert 2 ** parity_bits == n + 1\n",
        "\n",
        "    # copy data to code\n",
        "    code = np.zeros(n, dtype=int)\n",
        "    code[np.arange(n) & np.arange(n) + 1 > 0] = data\n",
        "    # parity mask\n",
        "    mask = np.zeros(n, dtype=int)\n",
        "    num = 1\n",
        "    while (num <= n):\n",
        "        mask[num-1] = 1\n",
        "        num *= 2\n",
        "        \n",
        "    # compute parity\n",
        "    #START YOUR CODE\n",
        "    x = 0\n",
        "    while x < n:\n",
        "        code[x] = code[x:][mask == 1].sum() & 1\n",
        "        x += x + 1\n",
        "        mask = np.repeat(mask, 2)[:n - x]\n",
        "\n",
        "    #END OF YOUR CODE    \n",
        "    \n",
        "    # result\n",
        "    return code"
      ]
    },
    {
      "cell_type": "code",
      "execution_count": 5,
      "metadata": {
        "id": "bFyv-espBsHu"
      },
      "outputs": [],
      "source": [
        "def decode_hamming(code):\n",
        "    n = len(code)\n",
        "\n",
        "    # parity mask\n",
        "    mask = np.zeros(n, dtype=int)\n",
        "    num = 1\n",
        "    while (num <= n):\n",
        "        mask[num-1] = 1\n",
        "        num *= 2\n",
        "    \n",
        "    # compute parity\n",
        "    # START YOUR CODE\n",
        "    error, y = -1, 0\n",
        "    while y < n:\n",
        "        error += (y + 1) * (code[y:][mask == 1].sum() & 1)\n",
        "        y += y + 1\n",
        "        mask = np.repeat(mask, 2)[:n - y]\n",
        "    # END OF YOUR CODE\n",
        "    \n",
        "    # fix error\n",
        "    if error >= 0:\n",
        "        code[error] ^= 1\n",
        "\n",
        "    # get data from code\n",
        "    data = code[np.arange(n) & np.arange(n) + 1 > 0]\n",
        "\n",
        "    # result\n",
        "    return error, data"
      ]
    },
    {
      "cell_type": "code",
      "execution_count": 6,
      "metadata": {
        "id": "6Lfh9Pz7BsHv"
      },
      "outputs": [],
      "source": [
        "def encode_crc(data):\n",
        "    crc = format(263, 'b') # CRC-8 263\n",
        "    print(crc)\n",
        "    crcList = [int(x) for x in list(crc)]\n",
        "    n = len(data) + len(crc) - 1\n",
        "    # copy data to code\n",
        "    resultCode = np.zeros(n, dtype=int)\n",
        "    code = np.zeros(n, dtype=int)\n",
        "    code = data\n",
        "   \n",
        "    # START YOUR CODE\n",
        "    for i in range(len(resultCode) - len(code) + 1):\n",
        "      for j in range(len(code)):\n",
        "        resultCode[i + j] ^= code[j]\n",
        "    \n",
        "    # END OF YOUR CODE\n",
        "    \n",
        "    return resultCode\n",
        "        "
      ]
    },
    {
      "cell_type": "code",
      "execution_count": 7,
      "metadata": {
        "id": "fdQh5azRBsHw"
      },
      "outputs": [],
      "source": [
        "def decode_crc(data):\n",
        "    crc = format(263, 'b') # CRC-8\n",
        "    crcList = [int(x) for x in list(crc)]\n",
        "    n = len(data)\n",
        "    # copy data to code\n",
        "    code = np.zeros(n, dtype=int)\n",
        "    code = data\n",
        "   \n",
        "    # START YOUR CODE\n",
        "    \n",
        "    # END OF YOUR CODE\n",
        "    return errorSum"
      ]
    },
    {
      "cell_type": "code",
      "execution_count": 8,
      "metadata": {
        "id": "NdTfp1JTBsHx"
      },
      "outputs": [],
      "source": [
        "def encode_2d(data):\n",
        "    code = []\n",
        "    # START YOUR CODE\n",
        "    for i in data:\n",
        "      if i.count(1) % 2 == 0:\n",
        "        i.append(0)\n",
        "      else:\n",
        "        i.append(1)\n",
        "\n",
        "    print(data)\n",
        "\n",
        "    ans = [0 if(sum(int(n) for n in x if n != ' ')%2 ==0) else 1 for x in zip(*data)]\n",
        "\n",
        "    data.append(ans)\n",
        "    \n",
        "    print(data)\n",
        "    code = data\n",
        "\n",
        "    # END OF YOUR CODE\n",
        "    return code"
      ]
    },
    {
      "cell_type": "code",
      "execution_count": 9,
      "metadata": {
        "id": "AlXI-APZBsHy"
      },
      "outputs": [],
      "source": [
        "def decode_2d(data):\n",
        "    origin = []\n",
        "    row = []\n",
        "    col = []\n",
        "    errorneous = False\n",
        "    count = 0\n",
        "    \n",
        "    # START YOUR CODE\n",
        "    for idi, i in enumerate(data):\n",
        "      if i.count(1) % 2 != 0:\n",
        "        errorneous = True\n",
        "        count = count +1\n",
        "        row.append(idi)\n",
        "          \n",
        "    outp = [0 if(sum(int(n) for n in x if n != ' ')%2 ==0) else 1 for x in zip(*data)]\n",
        "\n",
        "    for idx, x in enumerate(outp):\n",
        "      print(idx,x)\n",
        "      while(idx == 1):\n",
        "        col.append(idx)\n",
        "        \n",
        "    print(row)\n",
        "    print(col)\n",
        "    \n",
        "    if(count == 1):\n",
        "      print('fix the error')\n",
        "      for i in data: \n",
        "        if i.count(1) % 2 != 0:\n",
        "          data[row[0]][col[0]] = 0\n",
        "          origin = data\n",
        "    else:\n",
        "      print('More than 1 bit error detected. Unable to fix the error')\n",
        "          \n",
        "    \n",
        "    # END OF YOUR CODE\n",
        "    return origin"
      ]
    },
    {
      "cell_type": "markdown",
      "metadata": {
        "id": "jE3fRU7TBsHy"
      },
      "source": [
        "## Test your code"
      ]
    },
    {
      "cell_type": "code",
      "execution_count": 10,
      "metadata": {
        "scrolled": true,
        "colab": {
          "base_uri": "https://localhost:8080/"
        },
        "id": "zpMWnnW7BsHz",
        "outputId": "303164ee-f4cd-410c-db9a-14b087d47849"
      },
      "outputs": [
        {
          "output_type": "stream",
          "name": "stdout",
          "text": [
            "hamming code [0 0 0 1] -> [0 0 0 1 0 0 1]\n",
            "with error [0 0 0 0 0 0 1]\n",
            "error @ 3 -> [0 0 0 1]\n"
          ]
        }
      ],
      "source": [
        "#Hamming Test\n",
        "parity_bits = 3\n",
        "data = np.random.randint(0, 2, 4) # generate 4 random data bits\n",
        "\n",
        "# generate code\n",
        "code = encode_hamming(parity_bits, data) # encode here\n",
        "print('hamming code', data, '->', code)\n",
        "\n",
        "# make error\n",
        "code[3] ^= 1\n",
        "print('with error', code)\n",
        "\n",
        "# reconstruct\n",
        "error, recon = decode_hamming(code) # decode here\n",
        "print('error @', error, '->', recon)\n",
        "# hamming code [0 1 1 0] -> [0 0 0 0 1 1 0]\n",
        "# with error [0 0 0 1 1 1 0]"
      ]
    },
    {
      "cell_type": "code",
      "execution_count": 11,
      "metadata": {
        "id": "ZKoLRRasBsH0",
        "outputId": "934be3a8-ed08-4b14-8d81-3a71ec1d727b",
        "colab": {
          "base_uri": "https://localhost:8080/"
        }
      },
      "outputs": [
        {
          "output_type": "stream",
          "name": "stdout",
          "text": [
            "hamming code [1 1 0 0 1 0 1 0 0 1 1] -> [0 1 1 1 1 0 0 0 1 0 1 0 0 1 1]\n",
            "with error [0 1 1 1 1 1 0 0 1 0 1 0 0 1 1]\n",
            "error @ 5 -> [1 1 0 0 1 0 1 0 0 1 1]\n"
          ]
        }
      ],
      "source": [
        "#Hamming Test2\n",
        "parity_bits = 4\n",
        "data = np.random.randint(0, 2, 11)\n",
        "\n",
        "# generate code\n",
        "code = encode_hamming(parity_bits, data)\n",
        "print('hamming code', data, '->', code)\n",
        "\n",
        "# make error\n",
        "code[5] ^= 1\n",
        "print('with error', code)\n",
        "\n",
        "# reconstruct\n",
        "error, recon = decode_hamming(code)\n",
        "print('error @', error, '->', recon)"
      ]
    },
    {
      "cell_type": "code",
      "execution_count": 12,
      "metadata": {
        "scrolled": true,
        "id": "h-uA08NmBsH1",
        "outputId": "a5ab0daf-9863-415d-f923-8d9d51dfa5ee",
        "colab": {
          "base_uri": "https://localhost:8080/"
        }
      },
      "outputs": [
        {
          "output_type": "stream",
          "name": "stdout",
          "text": [
            "with error [0 0 0 0 1 1 0]\n",
            "error @ 1 -> [0 1 1 0]\n"
          ]
        }
      ],
      "source": [
        "#Hamming Test3\n",
        "parity_bits = 3\n",
        "data = np.random.randint(0, 2, 4) # generate 4 random data bits\n",
        "\n",
        "# generate code\n",
        "code = encode_hamming(parity_bits, data) # encode here\n",
        "# make error\n",
        "code[2] ^= 1\n",
        "print('with error', code)\n",
        "\n",
        "# reconstruct\n",
        "error, recon = decode_hamming(code)\n",
        "print('error @', error, '->', recon)"
      ]
    },
    {
      "cell_type": "code",
      "execution_count": 13,
      "metadata": {
        "id": "k5YQnt7NBsH2",
        "outputId": "d1768085-6686-4940-f606-2002a95c7871",
        "colab": {
          "base_uri": "https://localhost:8080/",
          "height": 391
        }
      },
      "outputs": [
        {
          "output_type": "stream",
          "name": "stdout",
          "text": [
            "Data to transmit = [1 0 0 1 0 1 1 1 1 0 1 0 0 0 0 1]\n",
            "100000111\n",
            "After data = [1 1 1 0 0 1 0 1 0 1 0 0 1 1 0 0 1 0 0 1 1 1 1 1]\n",
            "Error data = [1 1 1 0 0 0 0 1 0 0 0 0 1 1 0 0 1 0 1 1 1 1 1 1]\n"
          ]
        },
        {
          "output_type": "error",
          "ename": "NameError",
          "evalue": "ignored",
          "traceback": [
            "\u001b[0;31m---------------------------------------------------------------------------\u001b[0m",
            "\u001b[0;31mNameError\u001b[0m                                 Traceback (most recent call last)",
            "\u001b[0;32m<ipython-input-13-a290ce169670>\u001b[0m in \u001b[0;36m<module>\u001b[0;34m\u001b[0m\n\u001b[1;32m      9\u001b[0m \u001b[0;31m#data[22] ^= 1\u001b[0m\u001b[0;34m\u001b[0m\u001b[0;34m\u001b[0m\u001b[0;34m\u001b[0m\u001b[0m\n\u001b[1;32m     10\u001b[0m \u001b[0mprint\u001b[0m\u001b[0;34m(\u001b[0m\u001b[0;34m'Error data ='\u001b[0m\u001b[0;34m,\u001b[0m \u001b[0mdata\u001b[0m\u001b[0;34m)\u001b[0m\u001b[0;34m\u001b[0m\u001b[0;34m\u001b[0m\u001b[0m\n\u001b[0;32m---> 11\u001b[0;31m \u001b[0mresult\u001b[0m \u001b[0;34m=\u001b[0m \u001b[0mdecode_crc\u001b[0m\u001b[0;34m(\u001b[0m\u001b[0mdata\u001b[0m\u001b[0;34m)\u001b[0m\u001b[0;34m\u001b[0m\u001b[0;34m\u001b[0m\u001b[0m\n\u001b[0m\u001b[1;32m     12\u001b[0m \u001b[0;32mif\u001b[0m \u001b[0msum\u001b[0m\u001b[0;34m(\u001b[0m\u001b[0mresult\u001b[0m\u001b[0;34m)\u001b[0m \u001b[0;34m!=\u001b[0m \u001b[0;36m0\u001b[0m\u001b[0;34m:\u001b[0m\u001b[0;34m\u001b[0m\u001b[0;34m\u001b[0m\u001b[0m\n\u001b[1;32m     13\u001b[0m     \u001b[0mprint\u001b[0m\u001b[0;34m(\u001b[0m\u001b[0;34m'An error detected. Remainder ='\u001b[0m\u001b[0;34m,\u001b[0m \u001b[0mresult\u001b[0m\u001b[0;34m)\u001b[0m\u001b[0;34m\u001b[0m\u001b[0;34m\u001b[0m\u001b[0m\n",
            "\u001b[0;32m<ipython-input-7-d818e2cc4469>\u001b[0m in \u001b[0;36mdecode_crc\u001b[0;34m(data)\u001b[0m\n\u001b[1;32m     10\u001b[0m \u001b[0;34m\u001b[0m\u001b[0m\n\u001b[1;32m     11\u001b[0m     \u001b[0;31m# END OF YOUR CODE\u001b[0m\u001b[0;34m\u001b[0m\u001b[0;34m\u001b[0m\u001b[0;34m\u001b[0m\u001b[0m\n\u001b[0;32m---> 12\u001b[0;31m     \u001b[0;32mreturn\u001b[0m \u001b[0merrorSum\u001b[0m\u001b[0;34m\u001b[0m\u001b[0;34m\u001b[0m\u001b[0m\n\u001b[0m",
            "\u001b[0;31mNameError\u001b[0m: name 'errorSum' is not defined"
          ]
        }
      ],
      "source": [
        "#CRC test\n",
        "data = np.random.randint(0, 2, 16)\n",
        "print('Data to transmit =',data)\n",
        "data = encode_crc(data)\n",
        "print('After data =', data)\n",
        "data[np.random.randint(0,len(data))] ^= 1\n",
        "data[np.random.randint(0,len(data))] ^= 1\n",
        "data[np.random.randint(0,len(data))] ^= 1\n",
        "#data[22] ^= 1\n",
        "print('Error data =', data)\n",
        "result = decode_crc(data)\n",
        "if sum(result) != 0:\n",
        "    print('An error detected. Remainder =', result)\n",
        "else:\n",
        "    print('No error detected. Remainder =', result)"
      ]
    },
    {
      "cell_type": "code",
      "execution_count": null,
      "metadata": {
        "id": "HE9tT4UNBsH3"
      },
      "outputs": [],
      "source": [
        "#CRC test2\n",
        "data = np.random.randint(0, 2, 32)\n",
        "print('Data to transmit =',data)\n",
        "data = encode_crc(data)\n",
        "print('CRC encoded data =', data)\n",
        "data[np.random.randint(0,len(data))] ^= 1\n",
        "data[np.random.randint(0,len(data))] ^= 1\n",
        "print('Error data =', data)\n",
        "result = decode_crc(data)\n",
        "if sum(result) != 0:\n",
        "    print('An error detected. Remainder =', result)\n",
        "else:\n",
        "    print('No error detected. Remainder =', result)"
      ]
    },
    {
      "cell_type": "code",
      "execution_count": null,
      "metadata": {
        "id": "kFE4EsaaBsH3"
      },
      "outputs": [],
      "source": [
        "#CRC test3\n",
        "data = np.random.randint(0, 2, 32)\n",
        "print('Data to transmit =',data)\n",
        "data = encode_crc(data)\n",
        "print('CRC encoded data =', data)\n",
        "result = decode_crc(data)\n",
        "if sum(result) != 0:\n",
        "    print('An error detected. Remainder =', result)\n",
        "else:\n",
        "    print('No error detected. Remainder =', result)"
      ]
    },
    {
      "cell_type": "code",
      "execution_count": 14,
      "metadata": {
        "id": "L7CI1fXjBsH4",
        "colab": {
          "base_uri": "https://localhost:8080/",
          "height": 408
        },
        "outputId": "c1dfee49-2f7c-478f-ecc3-f17e39f42210"
      },
      "outputs": [
        {
          "output_type": "stream",
          "name": "stdout",
          "text": [
            "[[1, 0, 0, 0, 1, 0], [1, 0, 0, 1, 1, 1], [1, 0, 0, 0, 0, 1], [0, 0, 0, 0, 1, 1]]\n",
            "[[1, 0, 0, 0, 1, 0], [1, 0, 0, 1, 1, 1], [1, 0, 0, 0, 0, 1], [0, 0, 0, 0, 1, 1], [1, 0, 0, 1, 1, 1]]\n",
            "[[1, 0, 0, 0, 1, 0], [1, 0, 0, 1, 1, 1], [1, 0, 0, 0, 0, 1], [0, 0, 0, 0, 1, 1], [1, 0, 0, 1, 1, 1]]\n",
            "0 0\n",
            "1 0\n"
          ]
        },
        {
          "output_type": "error",
          "ename": "KeyboardInterrupt",
          "evalue": "ignored",
          "traceback": [
            "\u001b[0;31m---------------------------------------------------------------------------\u001b[0m",
            "\u001b[0;31mKeyboardInterrupt\u001b[0m                         Traceback (most recent call last)",
            "\u001b[0;32m<ipython-input-14-1c343f8c9e56>\u001b[0m in \u001b[0;36m<module>\u001b[0;34m\u001b[0m\n\u001b[1;32m      5\u001b[0m \u001b[0mdata\u001b[0m\u001b[0;34m[\u001b[0m\u001b[0;36m2\u001b[0m\u001b[0;34m]\u001b[0m\u001b[0;34m[\u001b[0m\u001b[0;36m2\u001b[0m\u001b[0;34m]\u001b[0m \u001b[0;34m^=\u001b[0m \u001b[0;36m1\u001b[0m\u001b[0;34m\u001b[0m\u001b[0;34m\u001b[0m\u001b[0m\n\u001b[1;32m      6\u001b[0m \u001b[0;31m#data[2][3] ^= 1\u001b[0m\u001b[0;34m\u001b[0m\u001b[0;34m\u001b[0m\u001b[0;34m\u001b[0m\u001b[0m\n\u001b[0;32m----> 7\u001b[0;31m \u001b[0mprint\u001b[0m\u001b[0;34m(\u001b[0m\u001b[0mdecode_2d\u001b[0m\u001b[0;34m(\u001b[0m\u001b[0mdata\u001b[0m\u001b[0;34m)\u001b[0m\u001b[0;34m)\u001b[0m\u001b[0;34m\u001b[0m\u001b[0;34m\u001b[0m\u001b[0m\n\u001b[0m",
            "\u001b[0;32m<ipython-input-9-869c30765c13>\u001b[0m in \u001b[0;36mdecode_2d\u001b[0;34m(data)\u001b[0m\n\u001b[1;32m     18\u001b[0m       \u001b[0mprint\u001b[0m\u001b[0;34m(\u001b[0m\u001b[0midx\u001b[0m\u001b[0;34m,\u001b[0m\u001b[0mx\u001b[0m\u001b[0;34m)\u001b[0m\u001b[0;34m\u001b[0m\u001b[0;34m\u001b[0m\u001b[0m\n\u001b[1;32m     19\u001b[0m       \u001b[0;32mwhile\u001b[0m\u001b[0;34m(\u001b[0m\u001b[0midx\u001b[0m \u001b[0;34m==\u001b[0m \u001b[0;36m1\u001b[0m\u001b[0;34m)\u001b[0m\u001b[0;34m:\u001b[0m\u001b[0;34m\u001b[0m\u001b[0;34m\u001b[0m\u001b[0m\n\u001b[0;32m---> 20\u001b[0;31m         \u001b[0mcol\u001b[0m\u001b[0;34m.\u001b[0m\u001b[0mappend\u001b[0m\u001b[0;34m(\u001b[0m\u001b[0midx\u001b[0m\u001b[0;34m)\u001b[0m\u001b[0;34m\u001b[0m\u001b[0;34m\u001b[0m\u001b[0m\n\u001b[0m\u001b[1;32m     21\u001b[0m \u001b[0;34m\u001b[0m\u001b[0m\n\u001b[1;32m     22\u001b[0m     \u001b[0mprint\u001b[0m\u001b[0;34m(\u001b[0m\u001b[0mrow\u001b[0m\u001b[0;34m)\u001b[0m\u001b[0;34m\u001b[0m\u001b[0;34m\u001b[0m\u001b[0m\n",
            "\u001b[0;31mKeyboardInterrupt\u001b[0m: "
          ]
        }
      ],
      "source": [
        "#2D parity test1\n",
        "data = encode_2d([[1,0,0,0,1],[1,0,0,1,1],[1,0,0,0,0],[0,0,0,0,1]])\n",
        "print(data)\n",
        "data[0][3] ^= 1\n",
        "data[2][2] ^= 1\n",
        "#data[2][3] ^= 1\n",
        "print(decode_2d(data))"
      ]
    },
    {
      "cell_type": "code",
      "execution_count": null,
      "metadata": {
        "id": "EHBrEqPLBsH4"
      },
      "outputs": [],
      "source": [
        "#2D parity test2\n",
        "data = encode_2d([[1,0,0,0,1],[1,0,0,1,1],[1,0,0,0,0],[0,0,0,0,1]])\n",
        "print(data)\n",
        "data[0][3] ^= 1\n",
        "print(decode_2d(data))"
      ]
    },
    {
      "cell_type": "code",
      "execution_count": null,
      "metadata": {
        "id": "140Gxj-3BsH4"
      },
      "outputs": [],
      "source": [
        "#2D parity test3\n",
        "data = encode_2d([[1,0,0,0,1,1,1],[1,0,0,1,1,1,0],[1,0,0,0,0,0,0],[0,0,0,0,1,1,0]])\n",
        "print(data)\n",
        "print(decode_2d(data))"
      ]
    },
    {
      "cell_type": "code",
      "execution_count": null,
      "metadata": {
        "id": "vtGCOUMdBsH5"
      },
      "outputs": [],
      "source": [
        "print([[1,0,0,0,1],[1,0,0,1,1],[1,0,0,0,0],[0,0,0,0,1]])"
      ]
    },
    {
      "cell_type": "code",
      "execution_count": null,
      "metadata": {
        "id": "2Pwh-W5gBsH5"
      },
      "outputs": [],
      "source": [
        "lists = [[1, 2, 3, 4], [4, 5, 6, 7], [8, 9, 10, 11]]\n",
        "output = []\n",
        "for l in lists:\n",
        "    nested_list = []\n",
        "    for i in l:\n",
        "        if i < 0:\n",
        "            nested_list.append(0)\n",
        "        else:\n",
        "            nested_list.append(i)\n",
        "\n",
        "    output.append(nested_list)\n",
        "\n",
        "print(nested_list)\n"
      ]
    },
    {
      "cell_type": "code",
      "source": [
        "a = [[[0, 0], [0, 0]], [[1, 0], [0, 0]], [[2, 0], [0, 0]] ]\n",
        "for a1 in a:\n",
        "    for a2 in a1:\n",
        "      if a2.count(1)%2==0:\n",
        "        a2.append(0)\n",
        "      else:\n",
        "        a2.append(1)\n",
        "\n",
        "    print(a1)"
      ],
      "metadata": {
        "id": "34cSZeu0Z93j"
      },
      "execution_count": null,
      "outputs": []
    }
  ],
  "metadata": {
    "kernelspec": {
      "display_name": "Python 3",
      "language": "python",
      "name": "python3"
    },
    "language_info": {
      "codemirror_mode": {
        "name": "ipython",
        "version": 3
      },
      "file_extension": ".py",
      "mimetype": "text/x-python",
      "name": "python",
      "nbconvert_exporter": "python",
      "pygments_lexer": "ipython3",
      "version": "3.8.3"
    },
    "colab": {
      "provenance": [],
      "collapsed_sections": [],
      "include_colab_link": true
    }
  },
  "nbformat": 4,
  "nbformat_minor": 0
}